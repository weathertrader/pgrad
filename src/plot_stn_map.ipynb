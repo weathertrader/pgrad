{
 "cells": [
  {
   "cell_type": "code",
   "execution_count": 1,
   "metadata": {},
   "outputs": [],
   "source": [
    "import os\n",
    "import numpy as np\n",
    "import pandas as pd\n",
    "import glob\n",
    "from datetime import datetime  as dt\n",
    "from datetime import timedelta as td\n",
    "#os.getcwd()\n",
    "import folium\n",
    "from folium import plugins\n",
    "import geopandas\n",
    "#import geojson\n",
    "import matplotlib.cm as cm\n",
    "import webbrowser\n",
    "import glob\n",
    "import pandas as pd\n",
    "import sys"
   ]
  },
  {
   "cell_type": "code",
   "execution_count": 2,
   "metadata": {},
   "outputs": [],
   "source": [
    "# os.getcwd()\n",
    "os.chdir(os.path.join(os.getenv('HOME'), 'pgrad'))\n",
    "sys.path.append(os.path.join(os.getcwd(), 'src'))\n",
    "from pgrad import read_stn_metadata_from_csv\n"
   ]
  },
  {
   "cell_type": "markdown",
   "metadata": {},
   "source": [
    "note csmith here add `trailheads.csv`"
   ]
  },
  {
   "cell_type": "code",
   "execution_count": 3,
   "metadata": {},
   "outputs": [
    {
     "name": "stdout",
     "output_type": "stream",
     "text": [
      "use_stn is all \n"
     ]
    }
   ],
   "source": [
    "# read station locations\n",
    "use_stn = 'all'\n",
    "print_stn_info = False\n",
    "#read_stn_metadata_type = 'csv' # 'db' or 'csv'\n",
    "project_name = 'pgrad'\n",
    "stn_metadata_file_name = os.path.join(os.environ['HOME'], project_name, 'station_list_'+project_name+'.csv') \n",
    "(dict_stn_metadata) = read_stn_metadata_from_csv(stn_metadata_file_name, use_stn, print_stn_info)\n",
    "    \n"
   ]
  },
  {
   "cell_type": "code",
   "execution_count": 4,
   "metadata": {},
   "outputs": [
    {
     "name": "stdout",
     "output_type": "stream",
     "text": [
      "[-120.57667 -116.78667 -121.49597 -122.2977  -122.36558 -120.45212\n",
      " -119.84361 -119.05667 -124.10861 -117.80722 -124.29    -121.2006\n",
      " -118.35806 -123.28333 -115.1634  -123.21444 -119.76819 -119.81465\n",
      " -122.4996  -121.72548 -118.38889 -119.20306 -120.62912 -123.00096\n",
      " -117.18306 -121.92417 -120.63611 -120.07556 -122.87696]\n",
      "[34.72944 34.85361 38.50674 40.51461 37.61961 34.89408 34.42611 35.43361\n",
      " 40.97806 40.90194 42.07444 44.0948  37.37111 44.5     36.07188 44.13333\n",
      " 39.50776 36.73096 37.5136  42.14703 33.93806 34.20056 35.66941 44.90493\n",
      " 32.73361 37.35917 35.23611 34.60694 42.37503]\n",
      "29\n"
     ]
    }
   ],
   "source": [
    "print(dict_stn_metadata['stn_lon'])\n",
    "print(dict_stn_metadata['stn_lat'])\n",
    "print(dict_stn_metadata['n_stn'])"
   ]
  },
  {
   "cell_type": "code",
   "execution_count": 6,
   "metadata": {},
   "outputs": [
    {
     "name": "stdout",
     "output_type": "stream",
     "text": [
      "top_events/stn_map.html\n"
     ]
    },
    {
     "data": {
      "text/plain": [
       "True"
      ]
     },
     "execution_count": 6,
     "metadata": {},
     "output_type": "execute_result"
    }
   ],
   "source": [
    "# set up Folium map\n",
    "#fmap = folium.Map(tiles = None, prefer_canvas=True, disable_3d=True)\n",
    "#fmap = folium.Map(tiles='Stamen Terrain', prefer_canvas=True, disable_3d=True)\n",
    "fmap = folium.Map(tiles='Stamen Terrain', location=[37.862606, -121.978372], zoom_start=15) # 10 \n",
    "folium.TileLayer(tiles = 'OpenStreetMap', name='OpenStreetMap', show=False).add_to(fmap)\n",
    "folium.TileLayer(tiles = 'Stamen Terrain', name='Terrain Map', show=True).add_to(fmap)\n",
    "cmap = cm.get_cmap('jet') # matplotlib colormap\n",
    "\n",
    "s = 2\n",
    "for s in range(0, dict_stn_metadata['n_stn']):\n",
    "    folium.Marker([dict_stn_metadata['stn_lat'][s], dict_stn_metadata['stn_lon'][s]]).add_to(fmap)\n",
    "#folium.Marker([dict_stn_metadata['stn_lat'][s], dict_stn_metadata['stn_lon'][s]], popup=dict_stn_metadata['stn_id'][s][1:]).add_to(cmap)\n",
    "    \n",
    "#map\n",
    "#ax.plot(dict_stn_metadata['stn_lon'][s], dict_stn_metadata['stn_lat'][s], marker='o', markersize=size_marker, markerfacecolor='r', markeredgecolor=marker_edge_color, markeredgewidth=marker_edge_width, alpha=alpha_level, transform=ccrs.PlateCarree())\n",
    "#ax.text(dict_stn_metadata['stn_lon'][s], dict_stn_metadata['stn_lat'][s], dict_stn_metadata['stn_id'][s][1:], color = 'k', fontsize=10, fontweight='bold', ha='left', transform=ccrs.PlateCarree())                    \n",
    "\n",
    "# add layer control widget\n",
    "folium.LayerControl(collapsed=False).add_to(fmap)\n",
    "# save map to html file\n",
    "fmap.fit_bounds(fmap.get_bounds())\n",
    "#html_file = os.path.join(dir_work, 'heatmap.html')\n",
    "#html_file = 'heatmap_'+str(int(dist_min))+'_max_'+str(int(dist_max))+'.html'\n",
    "html_file = os.path.join('top_events', 'stn_map.html')\n",
    "if os.path.isfile(html_file):\n",
    "    os.system('rm -f '+html_file)\n",
    "print(html_file)\n",
    "fmap.save(html_file)\n",
    "# open html file in default browser\n",
    "webbrowser.open(html_file, new=2, autoraise=True)\n",
    "\n"
   ]
  },
  {
   "cell_type": "code",
   "execution_count": null,
   "metadata": {},
   "outputs": [],
   "source": []
  },
  {
   "cell_type": "code",
   "execution_count": null,
   "metadata": {},
   "outputs": [],
   "source": []
  }
 ],
 "metadata": {
  "kernelspec": {
   "display_name": "Python [conda env:env_gis]",
   "language": "python",
   "name": "conda-env-env_gis-py"
  },
  "language_info": {
   "codemirror_mode": {
    "name": "ipython",
    "version": 3
   },
   "file_extension": ".py",
   "mimetype": "text/x-python",
   "name": "python",
   "nbconvert_exporter": "python",
   "pygments_lexer": "ipython3",
   "version": "3.7.6"
  }
 },
 "nbformat": 4,
 "nbformat_minor": 2
}
